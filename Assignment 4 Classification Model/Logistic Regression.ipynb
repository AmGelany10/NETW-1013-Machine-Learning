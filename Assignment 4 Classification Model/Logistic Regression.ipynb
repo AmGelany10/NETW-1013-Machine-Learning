{
 "cells": [
  {
   "cell_type": "markdown",
   "id": "0d175e7b",
   "metadata": {},
   "source": [
    "# GUC Classification Model using logistic regression"
   ]
  },
  {
   "cell_type": "markdown",
   "id": "4c242089",
   "metadata": {},
   "source": [
    "### Import packages and data set\n",
    "#### Import the \"Payment data\" file "
   ]
  },
  {
   "cell_type": "code",
   "execution_count": 1,
   "id": "b7ecbe34",
   "metadata": {},
   "outputs": [],
   "source": [
    "import pandas as pd\n",
    "import seaborn as sns\n",
    "import matplotlib.pyplot as plt\n",
    "import numpy as np\n",
    "%matplotlib inline\n"
   ]
  },
  {
   "cell_type": "code",
   "execution_count": 38,
   "id": "53673787",
   "metadata": {},
   "outputs": [
    {
     "data": {
      "text/html": [
       "<div>\n",
       "<style scoped>\n",
       "    .dataframe tbody tr th:only-of-type {\n",
       "        vertical-align: middle;\n",
       "    }\n",
       "\n",
       "    .dataframe tbody tr th {\n",
       "        vertical-align: top;\n",
       "    }\n",
       "\n",
       "    .dataframe thead th {\n",
       "        text-align: right;\n",
       "    }\n",
       "</style>\n",
       "<table border=\"1\" class=\"dataframe\">\n",
       "  <thead>\n",
       "    <tr style=\"text-align: right;\">\n",
       "      <th></th>\n",
       "      <th>step</th>\n",
       "      <th>type</th>\n",
       "      <th>amount</th>\n",
       "      <th>nameOrig</th>\n",
       "      <th>oldbalanceOrg</th>\n",
       "      <th>newbalanceOrig</th>\n",
       "      <th>nameDest</th>\n",
       "      <th>oldbalanceDest</th>\n",
       "      <th>newbalanceDest</th>\n",
       "      <th>isFraud</th>\n",
       "      <th>isFlaggedFraud</th>\n",
       "    </tr>\n",
       "  </thead>\n",
       "  <tbody>\n",
       "    <tr>\n",
       "      <th>0</th>\n",
       "      <td>1</td>\n",
       "      <td>PAYMENT</td>\n",
       "      <td>9839.64</td>\n",
       "      <td>C1231006815</td>\n",
       "      <td>170136.0</td>\n",
       "      <td>160296.36</td>\n",
       "      <td>M1979787155</td>\n",
       "      <td>0.0</td>\n",
       "      <td>0.0</td>\n",
       "      <td>0</td>\n",
       "      <td>0</td>\n",
       "    </tr>\n",
       "    <tr>\n",
       "      <th>1</th>\n",
       "      <td>1</td>\n",
       "      <td>PAYMENT</td>\n",
       "      <td>1864.28</td>\n",
       "      <td>C1666544295</td>\n",
       "      <td>21249.0</td>\n",
       "      <td>19384.72</td>\n",
       "      <td>M2044282225</td>\n",
       "      <td>0.0</td>\n",
       "      <td>0.0</td>\n",
       "      <td>0</td>\n",
       "      <td>0</td>\n",
       "    </tr>\n",
       "    <tr>\n",
       "      <th>2</th>\n",
       "      <td>1</td>\n",
       "      <td>TRANSFER</td>\n",
       "      <td>181.00</td>\n",
       "      <td>C1305486145</td>\n",
       "      <td>181.0</td>\n",
       "      <td>0.00</td>\n",
       "      <td>C553264065</td>\n",
       "      <td>0.0</td>\n",
       "      <td>0.0</td>\n",
       "      <td>1</td>\n",
       "      <td>0</td>\n",
       "    </tr>\n",
       "    <tr>\n",
       "      <th>3</th>\n",
       "      <td>1</td>\n",
       "      <td>CASH_OUT</td>\n",
       "      <td>181.00</td>\n",
       "      <td>C840083671</td>\n",
       "      <td>181.0</td>\n",
       "      <td>0.00</td>\n",
       "      <td>C38997010</td>\n",
       "      <td>21182.0</td>\n",
       "      <td>0.0</td>\n",
       "      <td>1</td>\n",
       "      <td>0</td>\n",
       "    </tr>\n",
       "    <tr>\n",
       "      <th>4</th>\n",
       "      <td>1</td>\n",
       "      <td>PAYMENT</td>\n",
       "      <td>11668.14</td>\n",
       "      <td>C2048537720</td>\n",
       "      <td>41554.0</td>\n",
       "      <td>29885.86</td>\n",
       "      <td>M1230701703</td>\n",
       "      <td>0.0</td>\n",
       "      <td>0.0</td>\n",
       "      <td>0</td>\n",
       "      <td>0</td>\n",
       "    </tr>\n",
       "  </tbody>\n",
       "</table>\n",
       "</div>"
      ],
      "text/plain": [
       "   step      type    amount     nameOrig  oldbalanceOrg  newbalanceOrig  \\\n",
       "0     1   PAYMENT   9839.64  C1231006815       170136.0       160296.36   \n",
       "1     1   PAYMENT   1864.28  C1666544295        21249.0        19384.72   \n",
       "2     1  TRANSFER    181.00  C1305486145          181.0            0.00   \n",
       "3     1  CASH_OUT    181.00   C840083671          181.0            0.00   \n",
       "4     1   PAYMENT  11668.14  C2048537720        41554.0        29885.86   \n",
       "\n",
       "      nameDest  oldbalanceDest  newbalanceDest  isFraud  isFlaggedFraud  \n",
       "0  M1979787155             0.0             0.0        0               0  \n",
       "1  M2044282225             0.0             0.0        0               0  \n",
       "2   C553264065             0.0             0.0        1               0  \n",
       "3    C38997010         21182.0             0.0        1               0  \n",
       "4  M1230701703             0.0             0.0        0               0  "
      ]
     },
     "execution_count": 38,
     "metadata": {},
     "output_type": "execute_result"
    }
   ],
   "source": [
    "# df=pd.read_csv(\"Online_Payments_1000_rows.csv\")\n",
    "df=pd.read_csv(\"PS_20174392719_1491204439457_log.csv\")\n",
    "df.head()"
   ]
  },
  {
   "cell_type": "markdown",
   "id": "733f0dca",
   "metadata": {},
   "source": [
    "> since the 'nameOrig' and 'nameDest' are not affecting the decision, we wouldn't take them in accounting"
   ]
  },
  {
   "cell_type": "markdown",
   "id": "b6ed6292",
   "metadata": {},
   "source": [
    "### categorical features Encoding"
   ]
  },
  {
   "cell_type": "code",
   "execution_count": 42,
   "id": "41f5d4e5",
   "metadata": {},
   "outputs": [
    {
     "name": "stdout",
     "output_type": "stream",
     "text": [
      "['PAYMENT' 'TRANSFER' 'CASH_OUT' 'DEBIT' 'CASH_IN']\n",
      "5\n"
     ]
    }
   ],
   "source": [
    "print(df['type'].unique())\n",
    "print(df['type'].nunique())"
   ]
  },
  {
   "cell_type": "code",
   "execution_count": 43,
   "id": "27fb1c8b",
   "metadata": {},
   "outputs": [],
   "source": [
    "df[\"type\"]= df.type.replace({\"PAYMENT\": 1, \"TRANSFER\": 2, \"CASH_OUT\": 3, \"DEBIT\": 4, \"CASH_IN\": 5})"
   ]
  },
  {
   "cell_type": "code",
   "execution_count": 8,
   "id": "9e7e751c",
   "metadata": {},
   "outputs": [],
   "source": [
    "# df[\"nameOrig\"] = df[\"nameOrig\"].apply(lambda x : x[1:]).astype(str).astype(int)"
   ]
  },
  {
   "cell_type": "code",
   "execution_count": 9,
   "id": "78930689",
   "metadata": {},
   "outputs": [],
   "source": [
    "# df[\"nameOrig\"]"
   ]
  },
  {
   "cell_type": "markdown",
   "id": "c8e8cddf",
   "metadata": {},
   "source": [
    "### Scale the features using sklearn.preprocessing package"
   ]
  },
  {
   "cell_type": "code",
   "execution_count": 44,
   "id": "c6a811e7",
   "metadata": {},
   "outputs": [],
   "source": [
    "# the scaler - for standard scaler of Normalization\n",
    "from sklearn.preprocessing import StandardScaler\n",
    "\n",
    "# set up the scaler\n",
    "scaler = StandardScaler()"
   ]
  },
  {
   "cell_type": "markdown",
   "id": "ef798c5d",
   "metadata": {},
   "source": [
    "**Fit the features data only to this estimator (leaving the TARGET CLASS column) and transform**"
   ]
  },
  {
   "cell_type": "code",
   "execution_count": 45,
   "id": "c98afacd",
   "metadata": {},
   "outputs": [],
   "source": [
    "scaler.fit(df.drop(['nameOrig','nameDest','isFraud','isFlaggedFraud'],axis=1))\n",
    "scaled_features = scaler.transform(df.drop(['nameOrig','nameDest','isFraud','isFlaggedFraud'],axis=1))"
   ]
  },
  {
   "cell_type": "code",
   "execution_count": 46,
   "id": "cdd0c6cd",
   "metadata": {},
   "outputs": [
    {
     "data": {
      "text/html": [
       "<div>\n",
       "<style scoped>\n",
       "    .dataframe tbody tr th:only-of-type {\n",
       "        vertical-align: middle;\n",
       "    }\n",
       "\n",
       "    .dataframe tbody tr th {\n",
       "        vertical-align: top;\n",
       "    }\n",
       "\n",
       "    .dataframe thead th {\n",
       "        text-align: right;\n",
       "    }\n",
       "</style>\n",
       "<table border=\"1\" class=\"dataframe\">\n",
       "  <thead>\n",
       "    <tr style=\"text-align: right;\">\n",
       "      <th></th>\n",
       "      <th>step</th>\n",
       "      <th>type</th>\n",
       "      <th>amount</th>\n",
       "      <th>oldbalanceOrg</th>\n",
       "      <th>newbalanceOrig</th>\n",
       "      <th>oldbalanceDest</th>\n",
       "      <th>newbalanceDest</th>\n",
       "    </tr>\n",
       "  </thead>\n",
       "  <tbody>\n",
       "    <tr>\n",
       "      <th>0</th>\n",
       "      <td>-1.703042</td>\n",
       "      <td>-1.130722</td>\n",
       "      <td>-0.281560</td>\n",
       "      <td>-0.229810</td>\n",
       "      <td>-0.237622</td>\n",
       "      <td>-0.323814</td>\n",
       "      <td>-0.333411</td>\n",
       "    </tr>\n",
       "    <tr>\n",
       "      <th>1</th>\n",
       "      <td>-1.703042</td>\n",
       "      <td>-1.130722</td>\n",
       "      <td>-0.294767</td>\n",
       "      <td>-0.281359</td>\n",
       "      <td>-0.285812</td>\n",
       "      <td>-0.323814</td>\n",
       "      <td>-0.333411</td>\n",
       "    </tr>\n",
       "    <tr>\n",
       "      <th>2</th>\n",
       "      <td>-1.703042</td>\n",
       "      <td>-0.460191</td>\n",
       "      <td>-0.297555</td>\n",
       "      <td>-0.288654</td>\n",
       "      <td>-0.292442</td>\n",
       "      <td>-0.323814</td>\n",
       "      <td>-0.333411</td>\n",
       "    </tr>\n",
       "    <tr>\n",
       "      <th>3</th>\n",
       "      <td>-1.703042</td>\n",
       "      <td>0.210340</td>\n",
       "      <td>-0.297555</td>\n",
       "      <td>-0.288654</td>\n",
       "      <td>-0.292442</td>\n",
       "      <td>-0.317582</td>\n",
       "      <td>-0.333411</td>\n",
       "    </tr>\n",
       "    <tr>\n",
       "      <th>4</th>\n",
       "      <td>-1.703042</td>\n",
       "      <td>-1.130722</td>\n",
       "      <td>-0.278532</td>\n",
       "      <td>-0.274329</td>\n",
       "      <td>-0.282221</td>\n",
       "      <td>-0.323814</td>\n",
       "      <td>-0.333411</td>\n",
       "    </tr>\n",
       "  </tbody>\n",
       "</table>\n",
       "</div>"
      ],
      "text/plain": [
       "       step      type    amount  oldbalanceOrg  newbalanceOrig  \\\n",
       "0 -1.703042 -1.130722 -0.281560      -0.229810       -0.237622   \n",
       "1 -1.703042 -1.130722 -0.294767      -0.281359       -0.285812   \n",
       "2 -1.703042 -0.460191 -0.297555      -0.288654       -0.292442   \n",
       "3 -1.703042  0.210340 -0.297555      -0.288654       -0.292442   \n",
       "4 -1.703042 -1.130722 -0.278532      -0.274329       -0.282221   \n",
       "\n",
       "   oldbalanceDest  newbalanceDest  \n",
       "0       -0.323814       -0.333411  \n",
       "1       -0.323814       -0.333411  \n",
       "2       -0.323814       -0.333411  \n",
       "3       -0.317582       -0.333411  \n",
       "4       -0.323814       -0.333411  "
      ]
     },
     "execution_count": 46,
     "metadata": {},
     "output_type": "execute_result"
    }
   ],
   "source": [
    "df_feat = pd.DataFrame(scaled_features,columns=[\"step\", \"type\", \"amount\", \"oldbalanceOrg\", \"newbalanceOrig\", \"oldbalanceDest\", \"newbalanceDest\"])\n",
    "df_feat.head()"
   ]
  },
  {
   "cell_type": "code",
   "execution_count": 47,
   "id": "cbf1b89a",
   "metadata": {},
   "outputs": [
    {
     "data": {
      "text/plain": [
       "(6362620, 7)"
      ]
     },
     "execution_count": 47,
     "metadata": {},
     "output_type": "execute_result"
    }
   ],
   "source": [
    "df_feat.shape"
   ]
  },
  {
   "cell_type": "markdown",
   "id": "e47a7f6d",
   "metadata": {},
   "source": [
    "### Input and Output"
   ]
  },
  {
   "cell_type": "code",
   "execution_count": 48,
   "id": "269d31c2",
   "metadata": {},
   "outputs": [],
   "source": [
    "# input\n",
    "X = df.iloc[:, [0,1,2,4,5,7,8]].values\n",
    "#X = df_feat.values\n",
    "\n",
    "# output\n",
    "y = df.iloc[:, 9].values\n"
   ]
  },
  {
   "cell_type": "code",
   "execution_count": 10,
   "id": "ff911d3e",
   "metadata": {},
   "outputs": [],
   "source": [
    "# print(f'{X[0]} \\n {type(X[1])}')"
   ]
  },
  {
   "cell_type": "markdown",
   "id": "785379fa",
   "metadata": {},
   "source": [
    "### Train/CV/Test split, model fit and prediction"
   ]
  },
  {
   "cell_type": "code",
   "execution_count": 49,
   "id": "9759c5a3",
   "metadata": {},
   "outputs": [
    {
     "name": "stdout",
     "output_type": "stream",
     "text": [
      "len(X): 6362620 len(y): 6362620 \n",
      "len(X_train): 3451721, len(X_valid): 1908786, len(X_test): 1002113 \n",
      "len(y_train): 3451721, len(y_valid): 1908786, len(y_test): 1002113\n"
     ]
    }
   ],
   "source": [
    "\n",
    "# split the full data 80:20 into training:validation sets\n",
    "from sklearn.model_selection import train_test_split\n",
    "X_train, X_valid, y_train, y_valid = train_test_split(X, y, train_size=0.7, random_state=0)\n",
    "\n",
    "# split training data 87.5:12.5 into training:testing sets\n",
    "X_train, X_test, y_train, y_test = train_test_split(X_train, y_train, train_size=0.775, random_state=0)\n",
    "\n",
    "print(\"len(X): {} len(y): {} \\nlen(X_train): {}, len(X_valid): {}, len(X_test): \\\n",
    "{} \\nlen(y_train): {}, len(y_valid): {}, len(y_test): {}\".format(len(X), len(y),\\\n",
    "len(X_train), len(X_valid), len(X_test), len(y_train), len(y_valid), \\\n",
    "len(y_test))) "
   ]
  },
  {
   "cell_type": "code",
   "execution_count": null,
   "id": "d43a28e5",
   "metadata": {},
   "outputs": [],
   "source": []
  },
  {
   "cell_type": "code",
   "execution_count": null,
   "id": "2f68c6f0",
   "metadata": {},
   "outputs": [],
   "source": [
    "# # the scaler - for standard scaler of Normalization\n",
    "# from sklearn.preprocessing import StandardScaler\n",
    "\n",
    "# scaler = StandardScaler()\n",
    "# X_train = scaler.fit_transform(X_train)\n",
    "# X_valid = scaler.transform(X_valid)\n",
    "# X_test = scaler.transform(X_test)"
   ]
  },
  {
   "cell_type": "markdown",
   "id": "d81556ae",
   "metadata": {},
   "source": [
    "### Logistic regression"
   ]
  },
  {
   "cell_type": "markdown",
   "id": "75fea621",
   "metadata": {},
   "source": [
    "* Train Data is used in selecting parameters\n",
    "<br>\n",
    "* CV Data is used in selecting the order of the polynomial\n",
    "<br>\n",
    "* Test Data to see how this polynomial generalizes will in further test examples\n",
    "\n",
    "[Reference](https://www.kaggle.com/code/tijelm/online-payment-fraud-detection-eda-classification)"
   ]
  },
  {
   "cell_type": "markdown",
   "id": "62c10839",
   "metadata": {},
   "source": [
    "#### 1. select the degree, train the model on the degree, then evaluate on the CV"
   ]
  },
  {
   "cell_type": "code",
   "execution_count": 50,
   "id": "9637fce1",
   "metadata": {},
   "outputs": [],
   "source": [
    "from sklearn.linear_model import LogisticRegression\n",
    "from sklearn.preprocessing import PolynomialFeatures\n",
    "from sklearn.pipeline import Pipeline\n",
    "from sklearn.metrics import classification_report"
   ]
  },
  {
   "cell_type": "code",
   "execution_count": 51,
   "id": "38b50a2c",
   "metadata": {},
   "outputs": [],
   "source": [
    "CVdegree = []\n",
    "CVacc = []\n",
    "CVcost = []\n",
    "\n",
    "#thetas = []\n",
    "\n",
    "Traindegree = []\n",
    "Trainacc = []\n",
    "Traincost = []\n",
    "def hypothesis_degree(n):\n",
    "    for i in range(n):\n",
    "        #select the degree & transform the X to the higher degree\n",
    "        poly = PolynomialFeatures(degree = i+1, interaction_only=False, include_bias=False)\n",
    "        X_poly = poly.fit_transform(X_train)\n",
    "\n",
    "        #train the model on the new degree\n",
    "        lr = LogisticRegression(random_state = 0)\n",
    "        lr.fit(X_poly,y_train)\n",
    "\n",
    "        #evaluate the degree selection on a new data which is the CV using the Jcv cost function\n",
    "        from sklearn.metrics import accuracy_score\n",
    "        y_predT = lr.predict(X_poly)\n",
    "        sT= accuracy_score(y_train, y_predT)\n",
    "        len = y_train.shape[0]\n",
    "        cT=(1/(2*len))*np.sum((y_predT-y_train)**2)\n",
    "        #(-1/(len))*np.sum(y_valid*np.log(y_pred)+(1-y_valid)*np.log(1-y_pred))\n",
    "        Traindegree.append(i+1)\n",
    "        Trainacc.append(sT)\n",
    "        Traincost.append(cT)\n",
    "        \n",
    "        #evaluate the degree selection on a new data which is the CV using the Jcv cost function\n",
    "        from sklearn.metrics import accuracy_score\n",
    "        y_pred = lr.predict(poly.transform(X_valid))\n",
    "        s= accuracy_score(y_valid, y_pred)\n",
    "        len = y_valid.shape[0]\n",
    "        c=(1/(2*len))*np.sum((y_pred-y_valid)**2)\n",
    "        CVdegree.append(i+1)\n",
    "        CVacc.append(s)\n",
    "        CVcost.append(c)\n",
    "        \n",
    "#         #the thetas' values for each hypothesis degree\n",
    "#         for idcoff, columnname in enumerate(df.iloc[:, [0,1,2,4,5,7,8]].columns):\n",
    "#             thetas.append(\"The coefficient for {} is {}\".format(columnname, lr.coef_[0][idcoff]))\n",
    "#         thetas.append(\"============================================ \")\n",
    "            \n",
    "            \n",
    "            \n",
    "#         print(\"\\n ============================================ \\n\")"
   ]
  },
  {
   "cell_type": "code",
   "execution_count": 52,
   "id": "f25443a2",
   "metadata": {},
   "outputs": [
    {
     "name": "stderr",
     "output_type": "stream",
     "text": [
      "C:\\Users\\abdog\\anaconda3\\lib\\site-packages\\sklearn\\linear_model\\_logistic.py:763: ConvergenceWarning: lbfgs failed to converge (status=2):\n",
      "ABNORMAL_TERMINATION_IN_LNSRCH.\n",
      "\n",
      "Increase the number of iterations (max_iter) or scale the data as shown in:\n",
      "    https://scikit-learn.org/stable/modules/preprocessing.html\n",
      "Please also refer to the documentation for alternative solver options:\n",
      "    https://scikit-learn.org/stable/modules/linear_model.html#logistic-regression\n",
      "  n_iter_i = _check_optimize_result(\n",
      "C:\\Users\\abdog\\anaconda3\\lib\\site-packages\\sklearn\\linear_model\\_logistic.py:763: ConvergenceWarning: lbfgs failed to converge (status=2):\n",
      "ABNORMAL_TERMINATION_IN_LNSRCH.\n",
      "\n",
      "Increase the number of iterations (max_iter) or scale the data as shown in:\n",
      "    https://scikit-learn.org/stable/modules/preprocessing.html\n",
      "Please also refer to the documentation for alternative solver options:\n",
      "    https://scikit-learn.org/stable/modules/linear_model.html#logistic-regression\n",
      "  n_iter_i = _check_optimize_result(\n",
      "C:\\Users\\abdog\\anaconda3\\lib\\site-packages\\sklearn\\linear_model\\_logistic.py:763: ConvergenceWarning: lbfgs failed to converge (status=2):\n",
      "ABNORMAL_TERMINATION_IN_LNSRCH.\n",
      "\n",
      "Increase the number of iterations (max_iter) or scale the data as shown in:\n",
      "    https://scikit-learn.org/stable/modules/preprocessing.html\n",
      "Please also refer to the documentation for alternative solver options:\n",
      "    https://scikit-learn.org/stable/modules/linear_model.html#logistic-regression\n",
      "  n_iter_i = _check_optimize_result(\n"
     ]
    }
   ],
   "source": [
    "hypothesis_degree(4)"
   ]
  },
  {
   "cell_type": "code",
   "execution_count": 53,
   "id": "945dfb31",
   "metadata": {},
   "outputs": [
    {
     "name": "stdout",
     "output_type": "stream",
     "text": [
      "cost function values = [0.0008691388138848461, 0.0006336488218165892, 0.0006336488218165892, 0.0006336488218165892] \n",
      " accuracy values = [0.9982617223722303, 0.9987327023563668, 0.9987327023563668, 0.9987327023563668] \n",
      " Hypothesis Degree = [1, 2, 3, 4]\n",
      "\n",
      " ============================================ \n",
      "\n",
      "cost function values = [0.0008371186431348304, 0.0006530075866502536, 0.0006530075866502536, 0.0006530075866502536] \n",
      " accuracy values = [0.9983257627137303, 0.9986939848266995, 0.9986939848266995, 0.9986939848266995] \n",
      " Hypothesis Degree = [1, 2, 3, 4]\n"
     ]
    }
   ],
   "source": [
    "print(f'cost function values = {CVcost} \\n accuracy values = {CVacc} \\n Hypothesis Degree = {CVdegree}')\n",
    "#print(f'cost function values = {CVcost} \\n accuracy values = {CVacc} \\n Hypothesis Degree = {CVdegree}  \\n Thetas Values = {thetas}')\n",
    "print(f'\\n ============================================ \\n')\n",
    "print(f'cost function values = {Traincost} \\n accuracy values = {Trainacc} \\n Hypothesis Degree = {Traindegree}')"
   ]
  },
  {
   "cell_type": "code",
   "execution_count": 22,
   "id": "f3c38f99",
   "metadata": {},
   "outputs": [
    {
     "data": {
      "text/plain": [
       "<matplotlib.legend.Legend at 0x1f54d87ff10>"
      ]
     },
     "execution_count": 22,
     "metadata": {},
     "output_type": "execute_result"
    },
    {
     "data": {
      "image/png": "[encoded data removed]",
      "text/plain": [
       "<Figure size 432x288 with 1 Axes>"
      ]
     },
     "metadata": {
      "needs_background": "light"
     },
     "output_type": "display_data"
    }
   ],
   "source": [
    "# plt.figure()\n",
    "# plt.plot(CVdegree, CVcost)\n",
    "# plt.ylabel(f'cost Function')\n",
    "# plt.xlabel('degree of polynomial')\n",
    "# plt.legend(['cross validation'],loc='upper right')"
   ]
  },
  {
   "cell_type": "code",
   "execution_count": 55,
   "id": "a0151637",
   "metadata": {},
   "outputs": [
    {
     "data": {
      "text/plain": [
       "<matplotlib.legend.Legend at 0x1f54d9a52b0>"
      ]
     },
     "execution_count": 55,
     "metadata": {},
     "output_type": "execute_result"
    },
    {
     "data": {
      "image/png": "[encoded data removed]",
      "text/plain": [
       "<Figure size 432x288 with 1 Axes>"
      ]
     },
     "metadata": {
      "needs_background": "light"
     },
     "output_type": "display_data"
    }
   ],
   "source": [
    "plt.figure()\n",
    "plt.title(\"Model Evaluation\")\n",
    "plt.plot(CVcost,'r')\n",
    "plt.plot(Traincost,'g')\n",
    "plt.ylabel(f'cost Function')\n",
    "plt.xlabel('degree of polynomial')\n",
    "plt.legend(['cross validation','training'],loc='upper right')"
   ]
  },
  {
   "cell_type": "markdown",
   "id": "1bdd1d1b",
   "metadata": {},
   "source": [
    "* Observation:-\n",
    ">the best and simple degree is one"
   ]
  },
  {
   "cell_type": "code",
   "execution_count": 56,
   "id": "58c1e096",
   "metadata": {},
   "outputs": [],
   "source": [
    "#select the degree & transform the X to the higher degree\n",
    "poly = PolynomialFeatures(degree = 1, interaction_only=False, include_bias=False)\n",
    "X_poly = poly.fit_transform(X_train)"
   ]
  },
  {
   "cell_type": "code",
   "execution_count": 57,
   "id": "b81685be",
   "metadata": {},
   "outputs": [
    {
     "data": {
      "text/plain": [
       "LogisticRegression(random_state=0)"
      ]
     },
     "execution_count": 57,
     "metadata": {},
     "output_type": "execute_result"
    }
   ],
   "source": [
    "#train the model on the new degree\n",
    "lr = LogisticRegression(random_state = 0)\n",
    "lr.fit(X_poly,y_train)"
   ]
  },
  {
   "cell_type": "code",
   "execution_count": 59,
   "id": "2063eab4",
   "metadata": {},
   "outputs": [
    {
     "name": "stdout",
     "output_type": "stream",
     "text": [
      "0.9982617223722303\n",
      "============================================\n",
      "              precision    recall  f1-score   support\n",
      "\n",
      "           0       1.00      1.00      1.00   1906367\n",
      "           1       0.35      0.43      0.38      2419\n",
      "\n",
      "    accuracy                           1.00   1908786\n",
      "   macro avg       0.67      0.71      0.69   1908786\n",
      "weighted avg       1.00      1.00      1.00   1908786\n",
      "\n"
     ]
    }
   ],
   "source": [
    "#another way for cal. the score\n",
    "# check the score section in link (https://scikit-learn.org/stable/modules/generated/sklearn.linear_model.LinearRegression.html)\n",
    "print(lr.score(poly.transform(X_valid), y_valid))\n",
    "\n",
    "print(\"============================================\")\n",
    "\n",
    "y_pred = lr.predict(poly.transform(X_valid))\n",
    "print(classification_report(y_valid, y_pred))"
   ]
  },
  {
   "cell_type": "markdown",
   "id": "2dac9541",
   "metadata": {},
   "source": [
    "* **_Precision:_** Precision is about being precise, i.e., how accurate your model is. In other words, you can say, when a model makes a prediction, how often it is correct. In your prediction case, when your Logistic Regression model predicted patients are going to suffer from diabetes, that patients have 76% of the time.\n",
    "\n",
    "* **_Recall:_** If there are patients who have diabetes in the test set and your Logistic Regression model can identify it 58% of the time."
   ]
  },
  {
   "cell_type": "code",
   "execution_count": 60,
   "id": "8921740a",
   "metadata": {},
   "outputs": [
    {
     "name": "stdout",
     "output_type": "stream",
     "text": [
      "Accuracy :  0.9982617223722303\n"
     ]
    }
   ],
   "source": [
    "#Return the coefficient of determination of the input features of the prediction\n",
    "from sklearn.metrics import accuracy_score\n",
    "y_pred = lr.predict(poly.transform(X_valid))\n",
    "print (\"Accuracy : \", accuracy_score(y_valid, y_pred))"
   ]
  },
  {
   "cell_type": "code",
   "execution_count": 61,
   "id": "ee28da58",
   "metadata": {},
   "outputs": [
    {
     "name": "stdout",
     "output_type": "stream",
     "text": [
      "Estimatation of generalization error for test set 0.0002430671540370731\n"
     ]
    }
   ],
   "source": [
    "#Evaluate the generalization by Jtest\n",
    "\n",
    "#predict\n",
    "y_predTest = lr.predict(poly.transform(X_test))\n",
    "\n",
    "#cost Cal.\n",
    "len = y_train.shape[0]\n",
    "cTest=(1/(2*len))*np.sum((y_predTest-y_test)**2)\n",
    "\n",
    "#print\n",
    "print(f'Estimatation of generalization error for test set {cTest}')#Evaluate the generalization by Jtest"
   ]
  },
  {
   "cell_type": "markdown",
   "id": "fd70be14",
   "metadata": {},
   "source": [
    "#### 2. calculate the theta's\n",
    "> They have value with degree one only\n",
    "\n",
    "> The sign of each coefficient indicates the direction of the relationship between a predictor variable and the response variable.\n",
    "\n",
    "> The coefficient value represents the mean change in the response given a one unit change in the predictor. For example, if a coefficient is +3, the mean response value increases by 3 for every one unit change in the predictor.\n",
    "\n",
    "[Reference](https://statisticsbyjim.com/glossary/regression-coefficient/#:~:text=Regression%20coefficients%20are%20estimates%20of,that%20multiply%20the%20predictor%20values.)"
   ]
  },
  {
   "cell_type": "code",
   "execution_count": 140,
   "id": "18b98466",
   "metadata": {},
   "outputs": [
    {
     "data": {
      "text/plain": [
       "Index(['step', 'type', 'amount', 'oldbalanceOrg', 'newbalanceOrig',\n",
       "       'oldbalanceDest', 'newbalanceDest'],\n",
       "      dtype='object')"
      ]
     },
     "execution_count": 140,
     "metadata": {},
     "output_type": "execute_result"
    }
   ],
   "source": [
    "# df.iloc[:, [0,1,2,4,5,7,8]].columns"
   ]
  },
  {
   "cell_type": "code",
   "execution_count": 15,
   "id": "ace461f6",
   "metadata": {},
   "outputs": [
    {
     "data": {
      "text/plain": [
       "array([[-6.78286224e-05, -7.60187827e-05, -9.36894403e-02,\n",
       "         8.92542429e-02, -1.53439248e-01, -1.20767644e-01,\n",
       "         2.36765066e-03]])"
      ]
     },
     "execution_count": 15,
     "metadata": {},
     "output_type": "execute_result"
    }
   ],
   "source": [
    "# lr.coef_"
   ]
  },
  {
   "cell_type": "code",
   "execution_count": 62,
   "id": "f99a1e7b",
   "metadata": {},
   "outputs": [
    {
     "name": "stdout",
     "output_type": "stream",
     "text": [
      "The coefficient for step is -0.02633297452128605\n",
      "The coefficient for type is -0.00013241490394995674\n",
      "The coefficient for amount is -0.00023434817894624365\n",
      "The coefficient for oldbalanceOrg is 0.00025390059655869404\n",
      "The coefficient for newbalanceOrig is -0.0002781642552211436\n",
      "The coefficient for oldbalanceDest is 7.5767330754892094e-06\n",
      "The coefficient for newbalanceDest is -8.702207824115345e-06\n"
     ]
    }
   ],
   "source": [
    "#the thetas' values\n",
    "for idcoff, columnname in enumerate(df.iloc[:, [0,1,2,4,5,7,8]].columns):\n",
    "    print(\"The coefficient for {} is {}\".format(columnname, lr.coef_[0][idcoff]))"
   ]
  },
  {
   "cell_type": "code",
   "execution_count": 96,
   "id": "193a3b85",
   "metadata": {},
   "outputs": [
    {
     "name": "stdout",
     "output_type": "stream",
     "text": [
      "The coefficient for step is -6.782862238774632e-05\n",
      "The coefficient for type is -7.601878269971139e-05\n",
      "The coefficient for amount is -0.09368944033546621\n",
      "The coefficient for oldbalanceOrg is 0.08925424289498013\n",
      "The coefficient for newbalanceOrig is -0.15343924825806615\n",
      "The coefficient for oldbalanceDest is -0.12076764350860318\n",
      "The coefficient for newbalanceDest is 0.002367650655803926\n"
     ]
    }
   ],
   "source": [
    "# #the thetas' values for the first 1000 rows\n",
    "# for idcoff, columnname in enumerate(df.iloc[:, [0,1,2,4,5,7,8]].columns):\n",
    "#     print(\"The coefficient for {} is {}\".format(columnname, lr.coef_[0][idcoff]))"
   ]
  },
  {
   "cell_type": "markdown",
   "id": "fa6ee844",
   "metadata": {},
   "source": [
    "#### 3. Testing based on the test set"
   ]
  },
  {
   "cell_type": "code",
   "execution_count": 63,
   "id": "34f6c465",
   "metadata": {},
   "outputs": [
    {
     "name": "stdout",
     "output_type": "stream",
     "text": [
      "The score = 99.83255381379146 %\n",
      "============================================\n",
      "              precision    recall  f1-score   support\n",
      "\n",
      "           0       1.00      1.00      1.00   1000827\n",
      "           1       0.37      0.43      0.40      1286\n",
      "\n",
      "    accuracy                           1.00   1002113\n",
      "   macro avg       0.68      0.72      0.70   1002113\n",
      "weighted avg       1.00      1.00      1.00   1002113\n",
      "\n"
     ]
    }
   ],
   "source": [
    "#evaluate the degree selection on a new data which is the test set using the Jtest cost fucntion (score)\n",
    "print(f'The score = {lr.score(poly.transform(X_test), y_test)*100} %')\n",
    "print(\"============================================\")\n",
    "y_predtest = lr.predict(poly.transform(X_test))\n",
    "print(classification_report(y_test, y_predtest))"
   ]
  },
  {
   "cell_type": "markdown",
   "id": "08171185",
   "metadata": {},
   "source": [
    "* **_Precision:_** Precision is about being precise, i.e., how accurate your model is. In other words, you can say, when a model makes a prediction, how often it is correct. In your prediction case, when your Logistic Regression model predicted patients are going to suffer from diabetes, that patients have 76% of the time.\n",
    "\n",
    "* **_Recall:_** If there are patients who have diabetes in the test set and your Logistic Regression model can identify it 58% of the time."
   ]
  },
  {
   "cell_type": "markdown",
   "id": "a13d91b8",
   "metadata": {},
   "source": [
    "-------------------------------------------------------------------------------------------"
   ]
  },
  {
   "cell_type": "markdown",
   "id": "07bbfe90",
   "metadata": {},
   "source": [
    "### Regularization\n",
    "> Now, will apply regularization techniques and review the scores and impact of the techniques on the model.\n",
    "<br>\n",
    "> Shrinkage method, which we use to add the penalty term to control the complex model to avoid overfitting by reducing the variance.\n",
    "\n",
    "[Reference1](https://www.analyticsvidhya.com/blog/2021/11/study-of-regularization-techniques-of-linear-model-and-its-roles/)\n",
    "<br>\n",
    "[Reference2](https://harish-reddy.medium.com/regularization-in-python-699cfbad8622#:~:text=How%20does%20regularization%20work%3F,term%E2%80%9D%20that%20penalizes%20coefficient%20size.)"
   ]
  },
  {
   "cell_type": "markdown",
   "id": "5db28dd7",
   "metadata": {},
   "source": [
    "##### Ridge Regression Regularization (L2)"
   ]
  },
  {
   "cell_type": "code",
   "execution_count": 64,
   "id": "6a9e4275",
   "metadata": {},
   "outputs": [],
   "source": [
    "λ=[0.01,0.02,0.04,0.08,0.16,0.32,0.64,1.28,2.56,5.12,10.24] #values from page 10 Lecture Diagnostics II"
   ]
  },
  {
   "cell_type": "code",
   "execution_count": 65,
   "id": "66ea8fa3",
   "metadata": {},
   "outputs": [
    {
     "name": "stdout",
     "output_type": "stream",
     "text": [
      "Ridge model: [ 6.22905265e-06  3.36188145e-03  1.17116361e-08  1.08926245e-07\n",
      " -1.08487591e-07  8.35683195e-09 -8.61256694e-09]\n",
      "For parameter equals 0.01 :-\n",
      "0.17188596762210617\n",
      "0.15945995791651713\n",
      "\n",
      " ========================= \n",
      "\n",
      "Ridge model: [ 6.22905265e-06  3.36188144e-03  1.17116361e-08  1.08926245e-07\n",
      " -1.08487591e-07  8.35683195e-09 -8.61256694e-09]\n",
      "For parameter equals 0.02 :-\n",
      "0.1718859676221064\n",
      "0.15945995791691614\n",
      "\n",
      " ========================= \n",
      "\n",
      "Ridge model: [ 6.22905265e-06  3.36188143e-03  1.17116361e-08  1.08926245e-07\n",
      " -1.08487591e-07  8.35683196e-09 -8.61256695e-09]\n",
      "For parameter equals 0.04 :-\n",
      "0.17188596762210617\n",
      "0.1594599579177144\n",
      "\n",
      " ========================= \n",
      "\n",
      "Ridge model: [ 6.22905265e-06  3.36188141e-03  1.17116361e-08  1.08926245e-07\n",
      " -1.08487591e-07  8.35683197e-09 -8.61256696e-09]\n",
      "For parameter equals 0.08 :-\n",
      "0.17188596762210728\n",
      "0.1594599579193139\n",
      "\n",
      " ========================= \n",
      "\n",
      "Ridge model: [ 6.22905264e-06  3.36188136e-03  1.17116361e-08  1.08926245e-07\n",
      " -1.08487591e-07  8.35683199e-09 -8.61256698e-09]\n",
      "For parameter equals 0.16 :-\n",
      "0.17188596762210662\n",
      "0.15945995792251\n",
      "\n",
      " ========================= \n",
      "\n",
      "Ridge model: [ 6.22905264e-06  3.36188125e-03  1.17116362e-08  1.08926244e-07\n",
      " -1.08487591e-07  8.35683204e-09 -8.61256702e-09]\n",
      "For parameter equals 0.32 :-\n",
      "0.17188596762210584\n",
      "0.15945995792890166\n",
      "\n",
      " ========================= \n",
      "\n",
      "Ridge model: [ 6.22905263e-06  3.36188105e-03  1.17116363e-08  1.08926244e-07\n",
      " -1.08487590e-07  8.35683214e-09 -8.61256711e-09]\n",
      "For parameter equals 0.64 :-\n",
      "0.17188596762210584\n",
      "0.159459957941685\n",
      "\n",
      " ========================= \n",
      "\n",
      "Ridge model: [ 6.22905261e-06  3.36188064e-03  1.17116366e-08  1.08926242e-07\n",
      " -1.08487589e-07  8.35683234e-09 -8.61256729e-09]\n",
      "For parameter equals 1.28 :-\n",
      "0.17188596762210528\n",
      "0.1594599579672531\n",
      "\n",
      " ========================= \n",
      "\n",
      "Ridge model: [ 6.22905257e-06  3.36187983e-03  1.17116371e-08  1.08926240e-07\n",
      " -1.08487586e-07  8.35683274e-09 -8.61256765e-09]\n",
      "For parameter equals 2.56 :-\n",
      "0.1718859676221034\n",
      "0.15945995801838797\n",
      "\n",
      " ========================= \n",
      "\n",
      "Ridge model: [ 6.22905249e-06  3.36187820e-03  1.17116381e-08  1.08926235e-07\n",
      " -1.08487581e-07  8.35683353e-09 -8.61256837e-09]\n",
      "For parameter equals 5.12 :-\n",
      "0.17188596762209263\n",
      "0.15945995812064906\n",
      "\n",
      " ========================= \n",
      "\n",
      "Ridge model: [ 6.22905234e-06  3.36187495e-03  1.17116402e-08  1.08926225e-07\n",
      " -1.08487570e-07  8.35683512e-09 -8.61256980e-09]\n",
      "For parameter equals 10.24 :-\n",
      "0.1718859676220561\n",
      "0.15945995832515547\n",
      "\n",
      " ========================= \n",
      "\n"
     ]
    }
   ],
   "source": [
    "#RIDGE (L2)\t\tLASSO (L1)\n",
    "from sklearn import linear_model\n",
    "for i in λ:\n",
    "    ridge = linear_model.Ridge(alpha=i)\n",
    "    ridge.fit(X_poly,y_train)\n",
    "    print (\"Ridge model:\", (ridge.coef_))\n",
    "    print(f'For parameter equals {i} :-')\n",
    "    print(ridge.score(poly.transform(X_train), y_train))\n",
    "    print(ridge.score(poly.transform(X_test), y_test))\n",
    "    print(\"\\n ========================= \\n\")"
   ]
  },
  {
   "cell_type": "markdown",
   "id": "19ba2b73",
   "metadata": {},
   "source": [
    "* The optimal value for λ is 1.28\n",
    ">•Very small value of 𝜆 will cause over fitting in complicated Hypothesis\n",
    "<br>\n",
    ">•Very large value of 𝜆 will cause under fitting\n",
    "<br>\n",
    " - since I want to minimize the cost function, so for this small lampda, the theta's will have big values meaning I included alot of features which may lead to overfitting"
   ]
  },
  {
   "cell_type": "code",
   "execution_count": 1,
   "id": "40f6eefc",
   "metadata": {},
   "outputs": [],
   "source": [
    "# #RIDGE (L2)\t\tLASSO (L1)\n",
    "# predict_val=[]\n",
    "# predict_train=[]\n",
    "\n",
    "# import sklearn.metrics as metrics\n",
    "# from sklearn import linear_model\n",
    "# for i in λ:\n",
    "#     #ridge = linear_model.Ridge(alpha=i)\n",
    "#     #lr_clf=LogisticRegression(penalty='l2', C=i, solver='liblinear')\n",
    "#     ridge = linear_model.Ridge(alpha=i)\n",
    "#     ridge.fit(X_poly,y_train)\n",
    "#     print (\"Ridge model:\", (ridge.coef_))\n",
    "#     print(f'For parameter equals {i} :-')\n",
    "#     print(ridge.score(poly.transform(X_train), y_train))\n",
    "#     print(ridge.score(poly.transform(X_test), y_test))\n",
    "#     print(\"\\n ========================= \\n\")\n",
    "    \n",
    "#     pred_val=ridge.predict(X_valid)\n",
    "#     accuracy_val=metrics.explained_variance_score(y_valid,pred_val)\n",
    "#     err_val=1-accuracy_val\n",
    "#     predict_val.append(1-accuracy_val)\n",
    "    \n",
    "#     pred_train=ridge.predict(X_train)\n",
    "#     accuracy_train=metrics.explained_variance_score(y_train,pred_train)\n",
    "#     predict_train.append(1-accuracy_train)\n",
    "    \n",
    "# fig, ax = plt.subplots()\n",
    "# ax.plot(λ, predict_train, '-b', label='Train')\n",
    "# ax.plot(λ, predict_val, '-r', label='Cross_validation')\n",
    "# plt.xlabel(\"lambda (Regularization)\")\n",
    "# plt.ylabel(\"Cost Function\")\n",
    "# leg = ax.legend(loc='upper right');"
   ]
  },
  {
   "cell_type": "code",
   "execution_count": 67,
   "id": "364b73ab",
   "metadata": {},
   "outputs": [
    {
     "name": "stdout",
     "output_type": "stream",
     "text": [
      "Ridge model: [[-2.47706057e-02 -6.00687435e-04 -2.40283226e-04  2.59329206e-04\n",
      "  -2.83733649e-04  7.47972509e-06 -8.59874907e-06]]\n",
      "For parameter equals 0.01 :-\n",
      "0.998338220267513\n",
      "0.9983365149439235\n",
      "\n",
      " ========================= \n",
      "\n",
      "Ridge model: [[-2.58840674e-02 -9.13854456e-04 -2.35368379e-04  2.54767983e-04\n",
      "  -2.79052638e-04  7.54310881e-06 -8.66547664e-06]]\n",
      "For parameter equals 0.02 :-\n",
      "0.9983330054775574\n",
      "0.9983305275951914\n",
      "\n",
      " ========================= \n",
      "\n",
      "Ridge model: [[-2.61952041e-02 -9.93621762e-04 -2.34757105e-04  2.54267786e-04\n",
      "  -2.78526083e-04  7.56940208e-06 -8.69276972e-06]]\n",
      "For parameter equals 0.04 :-\n",
      "0.9983309775036858\n",
      "0.998329529703736\n",
      "\n",
      " ========================= \n",
      "\n",
      "Ridge model: [[-2.56868159e-02 -7.44667492e-04 -2.36682406e-04  2.56015772e-04\n",
      "  -2.80337366e-04  7.52988349e-06 -8.65071912e-06]]\n",
      "For parameter equals 0.08 :-\n",
      "0.9983344540303228\n",
      "0.9983285318122807\n",
      "\n",
      " ========================= \n",
      "\n",
      "Ridge model: [[-2.57787369e-02 -8.10163955e-04 -2.36334053e-04  2.55702080e-04\n",
      "  -2.80009136e-04  7.53868898e-06 -8.66012896e-06]]\n",
      "For parameter equals 0.16 :-\n",
      "0.9983332951881105\n",
      "0.9983305275951914\n",
      "\n",
      " ========================= \n",
      "\n",
      "Ridge model: [[-2.57242579e-02 -7.91534039e-04 -2.36539038e-04  2.55886644e-04\n",
      "  -2.80201860e-04  7.53353410e-06 -8.65458200e-06]]\n",
      "For parameter equals 0.32 :-\n",
      "0.9983338746092166\n",
      "0.9983305275951914\n",
      "\n",
      " ========================= \n",
      "\n",
      "Ridge model: [[-2.57448863e-02 -7.64369088e-04 -2.36463327e-04  2.55818534e-04\n",
      "  -2.80131318e-04  7.53542696e-06 -8.65668525e-06]]\n",
      "For parameter equals 0.64 :-\n",
      "0.9983335848986636\n",
      "0.9983305275951914\n",
      "\n",
      " ========================= \n",
      "\n"
     ]
    },
    {
     "name": "stderr",
     "output_type": "stream",
     "text": [
      "C:\\Users\\abdog\\anaconda3\\lib\\site-packages\\sklearn\\svm\\_base.py:985: ConvergenceWarning: Liblinear failed to converge, increase the number of iterations.\n",
      "  warnings.warn(\"Liblinear failed to converge, increase \"\n"
     ]
    },
    {
     "name": "stdout",
     "output_type": "stream",
     "text": [
      "Ridge model: [[-1.27068333e-02 -1.03782559e-04 -3.54547678e-04  3.69489869e-04\n",
      "  -4.00098265e-04  7.14186957e-06 -8.13682323e-06]]\n",
      "For parameter equals 1.28 :-\n",
      "0.9985427559179899\n",
      "0.9985311037777177\n",
      "\n",
      " ========================= \n",
      "\n",
      "Ridge model: [[-2.57086126e-02 -7.53831411e-04 -2.36599769e-04  2.55941340e-04\n",
      "  -2.80259582e-04  7.53196731e-06 -8.65295839e-06]]\n",
      "For parameter equals 2.56 :-\n",
      "0.9983341643197697\n",
      "0.998329529703736\n",
      "\n",
      " ========================= \n",
      "\n",
      "Ridge model: [[-2.56987774e-02 -7.85611600e-04 -2.36634219e-04  2.55972238e-04\n",
      "  -2.80291260e-04  7.53109733e-06 -8.65195516e-06]]\n",
      "For parameter equals 5.12 :-\n",
      "0.9983341643197697\n",
      "0.998329529703736\n",
      "\n",
      " ========================= \n",
      "\n",
      "Ridge model: [[-2.56782380e-02 -7.42971448e-04 -2.36714139e-04  2.56044278e-04\n",
      "  -2.80367144e-04  7.52906305e-06 -8.64983494e-06]]\n",
      "For parameter equals 10.24 :-\n",
      "0.9983344540303228\n",
      "0.9983285318122807\n",
      "\n",
      " ========================= \n",
      "\n"
     ]
    },
    {
     "data": {
      "image/png": "[encoded data removed]",
      "text/plain": [
       "<Figure size 432x288 with 1 Axes>"
      ]
     },
     "metadata": {
      "needs_background": "light"
     },
     "output_type": "display_data"
    }
   ],
   "source": [
    "#RIDGE (L2)\t\tLASSO (L1)\n",
    "predict_val=[]\n",
    "predict_train=[]\n",
    "\n",
    "from sklearn import linear_model\n",
    "for i in λ:\n",
    "    #ridge = linear_model.Ridge(alpha=i)\n",
    "    lr_clf=LogisticRegression(penalty='l2', C=i, solver='liblinear')\n",
    "    lr_clf.fit(X_poly,y_train)\n",
    "    print (\"Ridge model:\", (lr_clf.coef_))\n",
    "    print(f'For parameter equals {i} :-')\n",
    "    print(lr_clf.score(poly.transform(X_train), y_train))\n",
    "    print(lr_clf.score(poly.transform(X_test), y_test))\n",
    "    print(\"\\n ========================= \\n\")\n",
    "    \n",
    "    pred_val=lr_clf.predict(X_valid)\n",
    "    accuracy_val=accuracy_score(y_valid,pred_val)\n",
    "    err_val=1-accuracy_val\n",
    "    predict_val.append(1-accuracy_val)\n",
    "    \n",
    "    pred_train=lr_clf.predict(X_train)\n",
    "    accuracy_train=accuracy_score(y_train,pred_train)\n",
    "    predict_train.append(1-accuracy_train)\n",
    "    \n",
    "fig, ax = plt.subplots()\n",
    "ax.plot(λ, predict_train, '-b', label='Train')\n",
    "ax.plot(λ, predict_val, '-r', label='Cross_validation')\n",
    "plt.xlabel(\"lambda (Regularization)\")\n",
    "plt.ylabel(\"Cost Function\")\n",
    "leg = ax.legend(loc='upper right');"
   ]
  },
  {
   "cell_type": "markdown",
   "id": "62bb0789",
   "metadata": {},
   "source": [
    "* The optimal value for λ is 0.00; meaning Keep all Features without reducing any parameters\n",
    ">•Very small value of 𝜆 will cause over fitting in complicated Hypothesis\n",
    "<br>\n",
    ">•Very large value of 𝜆 will cause under fitting"
   ]
  },
  {
   "cell_type": "markdown",
   "id": "af3f9422",
   "metadata": {},
   "source": [
    "##### Lasso Regression Regularization (L1)"
   ]
  },
  {
   "cell_type": "code",
   "execution_count": 144,
   "id": "de955a98",
   "metadata": {},
   "outputs": [
    {
     "name": "stderr",
     "output_type": "stream",
     "text": [
      "<ipython-input-144-227a33c6002e>:3: UserWarning: With alpha=0, this algorithm does not converge well. You are advised to use the LinearRegression estimator\n",
      "  lasso.fit(X_poly,y_train)\n",
      "C:\\Users\\abdog\\anaconda3\\lib\\site-packages\\sklearn\\linear_model\\_coordinate_descent.py:530: UserWarning: Coordinate descent with no regularization may lead to unexpected results and is discouraged.\n",
      "  model = cd_fast.enet_coordinate_descent(\n",
      "C:\\Users\\abdog\\anaconda3\\lib\\site-packages\\sklearn\\linear_model\\_coordinate_descent.py:530: ConvergenceWarning: Objective did not converge. You might want to increase the number of iterations. Duality gap: 0.2672349472721121, tolerance: 9.981515711645101e-05\n",
      "  model = cd_fast.enet_coordinate_descent(\n",
      "C:\\Users\\abdog\\anaconda3\\lib\\site-packages\\sklearn\\linear_model\\_coordinate_descent.py:530: ConvergenceWarning: Objective did not converge. You might want to increase the number of iterations. Duality gap: 0.281405661635047, tolerance: 9.981515711645101e-05\n",
      "  model = cd_fast.enet_coordinate_descent(\n",
      "C:\\Users\\abdog\\anaconda3\\lib\\site-packages\\sklearn\\linear_model\\_coordinate_descent.py:530: ConvergenceWarning: Objective did not converge. You might want to increase the number of iterations. Duality gap: 0.2813941437432603, tolerance: 9.981515711645101e-05\n",
      "  model = cd_fast.enet_coordinate_descent(\n",
      "C:\\Users\\abdog\\anaconda3\\lib\\site-packages\\sklearn\\linear_model\\_coordinate_descent.py:530: ConvergenceWarning: Objective did not converge. You might want to increase the number of iterations. Duality gap: 0.28137110981743874, tolerance: 9.981515711645101e-05\n",
      "  model = cd_fast.enet_coordinate_descent(\n",
      "C:\\Users\\abdog\\anaconda3\\lib\\site-packages\\sklearn\\linear_model\\_coordinate_descent.py:530: ConvergenceWarning: Objective did not converge. You might want to increase the number of iterations. Duality gap: 0.2813250493956075, tolerance: 9.981515711645101e-05\n",
      "  model = cd_fast.enet_coordinate_descent(\n",
      "C:\\Users\\abdog\\anaconda3\\lib\\site-packages\\sklearn\\linear_model\\_coordinate_descent.py:530: ConvergenceWarning: Objective did not converge. You might want to increase the number of iterations. Duality gap: 0.2812329582614127, tolerance: 9.981515711645101e-05\n",
      "  model = cd_fast.enet_coordinate_descent(\n",
      "C:\\Users\\abdog\\anaconda3\\lib\\site-packages\\sklearn\\linear_model\\_coordinate_descent.py:530: ConvergenceWarning: Objective did not converge. You might want to increase the number of iterations. Duality gap: 0.28104889475280215, tolerance: 9.981515711645101e-05\n",
      "  model = cd_fast.enet_coordinate_descent(\n",
      "C:\\Users\\abdog\\anaconda3\\lib\\site-packages\\sklearn\\linear_model\\_coordinate_descent.py:530: ConvergenceWarning: Objective did not converge. You might want to increase the number of iterations. Duality gap: 0.28068124215079715, tolerance: 9.981515711645101e-05\n",
      "  model = cd_fast.enet_coordinate_descent(\n",
      "C:\\Users\\abdog\\anaconda3\\lib\\site-packages\\sklearn\\linear_model\\_coordinate_descent.py:530: ConvergenceWarning: Objective did not converge. You might want to increase the number of iterations. Duality gap: 0.2799478286106237, tolerance: 9.981515711645101e-05\n",
      "  model = cd_fast.enet_coordinate_descent(\n",
      "C:\\Users\\abdog\\anaconda3\\lib\\site-packages\\sklearn\\linear_model\\_coordinate_descent.py:530: ConvergenceWarning: Objective did not converge. You might want to increase the number of iterations. Duality gap: 0.2784885334152125, tolerance: 9.981515711645101e-05\n",
      "  model = cd_fast.enet_coordinate_descent(\n",
      "C:\\Users\\abdog\\anaconda3\\lib\\site-packages\\sklearn\\linear_model\\_coordinate_descent.py:530: ConvergenceWarning: Objective did not converge. You might want to increase the number of iterations. Duality gap: 0.2755997473492098, tolerance: 9.981515711645101e-05\n",
      "  model = cd_fast.enet_coordinate_descent(\n"
     ]
    },
    {
     "name": "stdout",
     "output_type": "stream",
     "text": [
      "Lasso model: [ 0.00000000e+00  5.43880504e-03  3.86283141e-08  2.71779797e-07\n",
      " -2.68315228e-07  1.03384365e-09 -1.99952592e-09]\n",
      "For parameter equals 0:-\n",
      "0.4645403463918043\n",
      "0.1915801453444831\n",
      "\n",
      " ========================= \n",
      "\n",
      "Lasso model: [ 0.00000000e+00  0.00000000e+00  4.09520541e-08  2.60149816e-07\n",
      " -2.54689620e-07  1.65600979e-09 -1.97499644e-09]\n",
      "For parameter equals 0.01:-\n",
      "0.4361223549713421\n",
      "0.18238835269914588\n",
      "\n",
      " ========================= \n",
      "\n",
      "Lasso model: [ 0.00000000e+00  0.00000000e+00  4.09518640e-08  2.60147586e-07\n",
      " -2.54687437e-07  1.65596256e-09 -1.97497008e-09]\n",
      "For parameter equals 0.02:-\n",
      "0.43612135604544067\n",
      "0.1823872187584391\n",
      "\n",
      " ========================= \n",
      "\n",
      "Lasso model: [ 0.00000000e+00  0.00000000e+00  4.09514837e-08  2.60143128e-07\n",
      " -2.54683070e-07  1.65586811e-09 -1.97491735e-09]\n",
      "For parameter equals 0.04:-\n",
      "0.43611935806787805\n",
      "0.18238495085307804\n",
      "\n",
      " ========================= \n",
      "\n",
      "Lasso model: [ 0.00000000e+00  0.00000000e+00  4.09507231e-08  2.60134210e-07\n",
      " -2.54674337e-07  1.65567921e-09 -1.97481190e-09]\n",
      "For parameter equals 0.08:-\n",
      "0.43611536160965425\n",
      "0.18238041494650314\n",
      "\n",
      " ========================= \n",
      "\n",
      "Lasso model: [ 0.00000000e+00  0.00000000e+00  4.09492019e-08  2.60116375e-07\n",
      " -2.54656871e-07  1.65530141e-09 -1.97460099e-09]\n",
      "For parameter equals 0.16:-\n",
      "0.43610736668084604\n",
      "0.18237134274997713\n",
      "\n",
      " ========================= \n",
      "\n",
      "Lasso model: [ 0.00000000e+00  0.00000000e+00  4.09461595e-08  2.60080706e-07\n",
      " -2.54621939e-07  1.65454580e-09 -1.97417917e-09]\n",
      "For parameter equals 0.32:-\n",
      "0.4360913687737995\n",
      "0.18235319682343065\n",
      "\n",
      " ========================= \n",
      "\n",
      "Lasso model: [ 0.00000000e+00  0.00000000e+00  4.09400747e-08  2.60009367e-07\n",
      " -2.54552075e-07  1.65303459e-09 -1.97333555e-09]\n",
      "For parameter equals 0.64:-\n",
      "0.43605934076201114\n",
      "0.18231689883639612\n",
      "\n",
      " ========================= \n",
      "\n",
      "Lasso model: [ 0.00000000e+00  0.00000000e+00  4.09279051e-08  2.59866692e-07\n",
      " -2.54412350e-07  1.65001224e-09 -1.97164831e-09]\n",
      "For parameter equals 1.28:-\n",
      "0.4359951577580652\n",
      "0.18224428026009964\n",
      "\n",
      " ========================= \n",
      "\n",
      "Lasso model: [ 0.00000000e+00  0.00000000e+00  4.09035659e-08  2.59581339e-07\n",
      " -2.54132897e-07  1.64396747e-09 -1.96827382e-09]\n",
      "For parameter equals 2.56:-\n",
      "0.435866274794661\n",
      "0.18209894303406016\n",
      "\n",
      " ========================= \n",
      "\n",
      "Lasso model: [ 0.00000000e+00  0.00000000e+00  4.08548873e-08  2.59010650e-07\n",
      " -2.53574006e-07  1.63187820e-09 -1.96152494e-09]\n",
      "For parameter equals 5.12:-\n",
      "0.43560645573573864\n",
      "0.18180788389547564\n",
      "\n",
      " ========================= \n",
      "\n",
      "Lasso model: [ 0.00000000e+00  0.00000000e+00  4.07575297e-08  2.57869329e-07\n",
      " -2.52456281e-07  1.60770070e-09 -1.94802751e-09]\n",
      "For parameter equals 10.24:-\n",
      "0.4350786030587569\n",
      "0.1812242238822349\n",
      "\n",
      " ========================= \n",
      "\n"
     ]
    },
    {
     "name": "stderr",
     "output_type": "stream",
     "text": [
      "C:\\Users\\abdog\\anaconda3\\lib\\site-packages\\sklearn\\linear_model\\_coordinate_descent.py:530: ConvergenceWarning: Objective did not converge. You might want to increase the number of iterations. Duality gap: 0.26993892216591625, tolerance: 9.981515711645101e-05\n",
      "  model = cd_fast.enet_coordinate_descent(\n"
     ]
    }
   ],
   "source": [
    "for i in λ: \n",
    "    lasso = linear_model.Lasso(alpha=i)\n",
    "    lasso.fit(X_poly,y_train)\n",
    "    print (\"Lasso model:\", (lasso.coef_))\n",
    "    print(f'For parameter equals {i}:-')\n",
    "    print(lasso.score(poly.transform(X_train), y_train))\n",
    "    print(lasso.score(poly.transform(X_test), y_test))\n",
    "    print(\"\\n ========================= \\n\")"
   ]
  },
  {
   "cell_type": "markdown",
   "id": "f29b7223",
   "metadata": {},
   "source": [
    "* The optimal value for λ is 0.00; meaning Keep all Features without reducing any parameters\n",
    ">•Very small value of 𝜆 will cause over fitting in complicated Hypothesis\n",
    "<br>\n",
    ">•Very large value of 𝜆 will cause under fitting"
   ]
  },
  {
   "cell_type": "code",
   "execution_count": 68,
   "id": "1efd2e25",
   "metadata": {},
   "outputs": [
    {
     "name": "stdout",
     "output_type": "stream",
     "text": [
      "LASSO model: [[ 4.84424162e-03  5.20183204e-01 -1.40916769e-05  3.08991513e-05\n",
      "  -3.53534295e-05  6.30739062e-06 -6.45150246e-06]]\n",
      "For parameter equals 0.01 :-\n",
      "0.9992736956434196\n",
      "0.9992615603230374\n",
      "\n",
      " ========================= \n",
      "\n",
      "LASSO model: [[ 5.12344374e-03  5.88279037e-01 -1.41667405e-05  3.11270596e-05\n",
      "  -3.56108454e-05  6.38570719e-06 -6.53452612e-06]]\n",
      "For parameter equals 0.02 :-\n",
      "0.9992768824595035\n",
      "0.9992635561059481\n",
      "\n",
      " ========================= \n",
      "\n",
      "LASSO model: [[ 5.26681532e-03  6.23268770e-01 -1.41720612e-05  3.12141613e-05\n",
      "  -3.57154281e-05  6.42330318e-06 -6.57444650e-06]]\n",
      "For parameter equals 0.04 :-\n",
      "0.9992765927489504\n",
      "0.9992635561059481\n",
      "\n",
      " ========================= \n",
      "\n",
      "LASSO model: [[ 5.33990494e-03  6.41084592e-01 -1.41733207e-05  3.12616223e-05\n",
      "  -3.57725002e-05  6.44458712e-06 -6.59683084e-06]]\n",
      "For parameter equals 0.08 :-\n",
      "0.9992765927489504\n",
      "0.9992635561059481\n",
      "\n",
      " ========================= \n",
      "\n",
      "LASSO model: [[ 5.37671347e-03  6.49878957e-01 -1.41444846e-05  3.12523119e-05\n",
      "  -3.57668822e-05  6.45171956e-06 -6.60454256e-06]]\n",
      "For parameter equals 0.16 :-\n",
      "0.9992771721700566\n",
      "0.9992635561059481\n",
      "\n",
      " ========================= \n",
      "\n",
      "LASSO model: [[ 5.39523561e-03  6.54598192e-01 -1.41729723e-05  3.12958798e-05\n",
      "  -3.58143078e-05  6.46002696e-06 -6.61310307e-06]]\n",
      "For parameter equals 0.32 :-\n",
      "0.9992771721700566\n",
      "0.9992635561059481\n",
      "\n",
      " ========================= \n",
      "\n",
      "LASSO model: [[ 5.40456950e-03  6.56909813e-01 -1.41832954e-05  3.13131322e-05\n",
      "  -3.58333063e-05  6.46356433e-06 -6.61676866e-06]]\n",
      "For parameter equals 0.64 :-\n",
      "0.9992777515911628\n",
      "0.9992635561059481\n",
      "\n",
      " ========================= \n",
      "\n",
      "LASSO model: [[ 5.40880831e-03  6.57914523e-01 -1.41655159e-05  3.12946726e-05\n",
      "  -3.58150112e-05  6.46185878e-06 -6.61512862e-06]]\n",
      "For parameter equals 1.28 :-\n",
      "0.9992777515911628\n",
      "0.9992635561059481\n",
      "\n",
      " ========================= \n",
      "\n",
      "LASSO model: [[ 5.41094668e-03  6.58405840e-01 -1.41558114e-05  3.12849274e-05\n",
      "  -3.58050810e-05  6.46141273e-06 -6.61473464e-06]]\n",
      "For parameter equals 2.56 :-\n",
      "0.9992774618806097\n",
      "0.9992635561059481\n",
      "\n",
      " ========================= \n",
      "\n",
      "LASSO model: [[ 5.41213572e-03  6.58846129e-01 -1.41719126e-05  3.13043376e-05\n",
      "  -3.58254928e-05  6.46398331e-06 -6.61732576e-06]]\n",
      "For parameter equals 5.12 :-\n",
      "0.9992777515911628\n",
      "0.9992635561059481\n",
      "\n",
      " ========================= \n",
      "\n",
      "LASSO model: [[ 5.41319011e-03  6.59048180e-01 -1.41720771e-05  3.13058389e-05\n",
      "  -3.58267671e-05  6.46436117e-06 -6.61771393e-06]]\n",
      "For parameter equals 10.24 :-\n",
      "0.9992774618806097\n",
      "0.9992635561059481\n",
      "\n",
      " ========================= \n",
      "\n"
     ]
    },
    {
     "data": {
      "image/png": "[encoded data removed]",
      "text/plain": [
       "<Figure size 432x288 with 1 Axes>"
      ]
     },
     "metadata": {
      "needs_background": "light"
     },
     "output_type": "display_data"
    }
   ],
   "source": [
    "#RIDGE (L2)\t\tLASSO (L1)\n",
    "predict_val=[]\n",
    "predict_train=[]\n",
    "\n",
    "from sklearn import linear_model\n",
    "for i in λ:\n",
    "    lr_clf=LogisticRegression(penalty='l1', C=i, solver='liblinear')\n",
    "    lr_clf.fit(X_poly,y_train)\n",
    "    print (\"LASSO model:\", (lr_clf.coef_))\n",
    "    print(f'For parameter equals {i} :-')\n",
    "    print(lr_clf.score(poly.transform(X_train), y_train))\n",
    "    print(lr_clf.score(poly.transform(X_test), y_test))\n",
    "    print(\"\\n ========================= \\n\")\n",
    "    \n",
    "    pred_val=lr_clf.predict(X_valid)\n",
    "    accuracy_val=accuracy_score(y_valid,pred_val)\n",
    "    err_val=1-accuracy_val\n",
    "    predict_val.append(1-accuracy_val)\n",
    "    \n",
    "    pred_train=lr_clf.predict(X_train)\n",
    "    accuracy_train=accuracy_score(y_train,pred_train)\n",
    "    predict_train.append(1-accuracy_train)\n",
    "    \n",
    "fig, ax = plt.subplots()\n",
    "ax.plot(λ, predict_train, '-b', label='Train')\n",
    "ax.plot(λ, predict_val, '-r', label='Cross_validation')\n",
    "plt.xlabel(\"lambda (Regularization)\")\n",
    "plt.ylabel(\"Cost Function\")\n",
    "leg = ax.legend(loc='upper right');"
   ]
  },
  {
   "cell_type": "markdown",
   "id": "abd2c99e",
   "metadata": {},
   "source": [
    "_Model fitment justification during training and testing_\n",
    "\n",
    "* Model is doing strongly at training set and poorly in test set means we’re at OVERFIT\n",
    "* Model is doing poor at both (Training and Testing) means we’re at UNDERFIT\n",
    "* Model is doing better and considers ways in both (Training and Test), means we’re at the RIGHT FIT"
   ]
  },
  {
   "cell_type": "markdown",
   "id": "905e8485",
   "metadata": {},
   "source": [
    "-------------------------------------------------------------------------------------------"
   ]
  },
  {
   "cell_type": "markdown",
   "id": "c8e3134a",
   "metadata": {},
   "source": [
    "### K-fold and Stratified Sampling"
   ]
  },
  {
   "cell_type": "markdown",
   "id": "a35e134e",
   "metadata": {},
   "source": [
    "* KFold is a cross-validator that divides the dataset into k folds and distribute those between the train & test sets.\n",
    "<br>\n",
    "* Stratified is to ensure that each fold of dataset has the same proportion of observations with a given label."
   ]
  },
  {
   "cell_type": "markdown",
   "id": "ec8881fd",
   "metadata": {},
   "source": [
    "> #### 1. K-fold\n",
    "[Reference1](https://oralytics.com/2020/09/21/k-fold-repeated-k-fold-cross-validation-in-python/)\n",
    "<br>\n",
    "[Reference2](https://medium.com/analytics-vidhya/cross-validation-in-machine-learning-using-python-4d0f335bec83)"
   ]
  },
  {
   "cell_type": "markdown",
   "id": "f99246b7",
   "metadata": {},
   "source": [
    "* _The difference between KFold & RepeatedKFold_\n",
    " \n",
    " - The estimate of model performance via k-fold cross-validation can be noisy.\n",
    "\n",
    " - This means that each time the procedure is run, a different split of the dataset into k-folds can be implemented, and in turn, the distribution of performance scores can be different, resulting in a different mean estimate of model performance.\n",
    "\n",
    " - One solution to reduce the noise in the estimated model performance is to increase the k-value. This will reduce the bias in the model’s estimated performance, although it will increase the variance: e.g. tie the result more to the specific dataset used in the evaluation.\n",
    "\n",
    " - An alternate approach is to repeat the k-fold cross-validation process multiple times and report the mean performance across all folds and all repeats. This approach is generally referred to as repeated k-fold cross-validation.\n",
    "<br>\n",
    "[Reference](https://machinelearningmastery.com/repeated-k-fold-cross-validation-with-python/)"
   ]
  },
  {
   "cell_type": "markdown",
   "id": "4b55d6a6",
   "metadata": {},
   "source": [
    "* RepeatedKFold"
   ]
  },
  {
   "cell_type": "code",
   "execution_count": 156,
   "id": "b7284b58",
   "metadata": {},
   "outputs": [
    {
     "name": "stdout",
     "output_type": "stream",
     "text": [
      "Accuracy: 0.007 (0.009)\n"
     ]
    }
   ],
   "source": [
    "from sklearn.model_selection import RepeatedKFold\n",
    "from sklearn.model_selection import KFold\n",
    "from sklearn.model_selection import cross_val_score\n",
    "from numpy import mean\n",
    "from numpy import std\n",
    "\n",
    "# prepare the cross-validation procedure\n",
    "CrossValidation = RepeatedKFold(n_splits=10, n_repeats= 100, random_state=1)\n",
    "\n",
    "# getting misclassification rate\n",
    "scores = 1 - cross_val_score(lr, X, y, scoring='accuracy', cv=CrossValidation, n_jobs=-1)\n",
    "\n",
    "# report performance\n",
    "print('Accuracy: %.3f (%.3f)' % (mean(scores), std(scores)))"
   ]
  },
  {
   "cell_type": "markdown",
   "id": "f2117265",
   "metadata": {},
   "source": [
    "* KFold"
   ]
  },
  {
   "cell_type": "code",
   "execution_count": 158,
   "id": "539ea1c5",
   "metadata": {},
   "outputs": [
    {
     "name": "stdout",
     "output_type": "stream",
     "text": [
      "Accuracy: 0.994 (0.011)\n"
     ]
    }
   ],
   "source": [
    "#load scikit-learn k-fold cross-validation\n",
    "from numpy import mean\n",
    "from numpy import std\n",
    "from sklearn.datasets import make_classification\n",
    "from sklearn.model_selection import KFold\n",
    "from sklearn.model_selection import cross_val_score\n",
    "from sklearn.linear_model import LogisticRegression\n",
    "\n",
    "#setup for k-Fold Cross Validation\n",
    "cv = KFold(n_splits=20, shuffle=True, random_state=0)\n",
    "#n_splits = number of k-folds\n",
    "#shuffle = shuffles data set prior to split\n",
    "#radnom_state = seed for (pseydo)random number generator\n",
    "\n",
    "#define model\n",
    "model = lr\n",
    "#create model, perform cross validation and evaluate model\n",
    "scores = cross_val_score(model, X, y, scoring='accuracy', cv=cv, n_jobs=-1)\n",
    "#performance result\n",
    "print('Accuracy: %.3f (%.3f)' % (mean(scores), std(scores)))"
   ]
  },
  {
   "cell_type": "code",
   "execution_count": null,
   "id": "26324753",
   "metadata": {},
   "outputs": [],
   "source": [
    "# print(f\"Mean of misclassification error rate in test date is, {np.mean(scores) : .3f} with standard deviation = {np.std(scores) : .4f} \")\n",
    "# #Note:- best split result with n_splits=20\n",
    "\n",
    "# import seaborn as sns\n",
    "# ax = sns.histplot(x=scores, kde=True)"
   ]
  },
  {
   "cell_type": "markdown",
   "id": "2ba29800",
   "metadata": {},
   "source": [
    "* _Stratified K-Folds cross-validator_\n",
    " - Provides train/test indices to split data in train/test sets. This cross-validation object is a variation of KFold that returns stratified folds. The folds are made by preserving the percentage of samples for each class.\n",
    "\n",
    "[Reference](https://www.geeksforgeeks.org/stratified-k-fold-cross-validation/)"
   ]
  },
  {
   "cell_type": "markdown",
   "id": "7d62ebcb",
   "metadata": {},
   "source": [
    "> #### Stratified Sampling Using Proportions\n",
    "[Reference1](https://thecleverprogrammer.com/2020/12/22/stratified-sampling-with-python/)\n",
    "<br>\n",
    "[Reference2](https://www.statology.org/stratified-sampling-pandas/)\n",
    "<br>\n",
    "[Reference3](https://www.geeksforgeeks.org/stratified-sampling-in-pandas/)"
   ]
  },
  {
   "cell_type": "markdown",
   "id": "44392d0b",
   "metadata": {},
   "source": [
    "The following code shows how to perform stratified random sampling such that the proportion of players in the sample from each team matches the proportion of players from each team in the larger DataFrame:"
   ]
  },
  {
   "cell_type": "code",
   "execution_count": 139,
   "id": "ee55b050",
   "metadata": {},
   "outputs": [
    {
     "data": {
      "text/html": [
       "<div>\n",
       "<style scoped>\n",
       "    .dataframe tbody tr th:only-of-type {\n",
       "        vertical-align: middle;\n",
       "    }\n",
       "\n",
       "    .dataframe tbody tr th {\n",
       "        vertical-align: top;\n",
       "    }\n",
       "\n",
       "    .dataframe thead th {\n",
       "        text-align: right;\n",
       "    }\n",
       "</style>\n",
       "<table border=\"1\" class=\"dataframe\">\n",
       "  <thead>\n",
       "    <tr style=\"text-align: right;\">\n",
       "      <th></th>\n",
       "      <th>step</th>\n",
       "      <th>type</th>\n",
       "      <th>amount</th>\n",
       "      <th>nameOrig</th>\n",
       "      <th>oldbalanceOrg</th>\n",
       "      <th>newbalanceOrig</th>\n",
       "      <th>nameDest</th>\n",
       "      <th>oldbalanceDest</th>\n",
       "      <th>newbalanceDest</th>\n",
       "      <th>isFraud</th>\n",
       "      <th>isFlaggedFraud</th>\n",
       "    </tr>\n",
       "  </thead>\n",
       "  <tbody>\n",
       "    <tr>\n",
       "      <th>0</th>\n",
       "      <td>1</td>\n",
       "      <td>1</td>\n",
       "      <td>2618.76</td>\n",
       "      <td>C1068945248</td>\n",
       "      <td>21867.46</td>\n",
       "      <td>19248.70</td>\n",
       "      <td>M937277082</td>\n",
       "      <td>0.00</td>\n",
       "      <td>0.00</td>\n",
       "      <td>0</td>\n",
       "      <td>0</td>\n",
       "    </tr>\n",
       "    <tr>\n",
       "      <th>1</th>\n",
       "      <td>1</td>\n",
       "      <td>1</td>\n",
       "      <td>10497.33</td>\n",
       "      <td>C1717739363</td>\n",
       "      <td>2684.69</td>\n",
       "      <td>0.00</td>\n",
       "      <td>M138536309</td>\n",
       "      <td>0.00</td>\n",
       "      <td>0.00</td>\n",
       "      <td>0</td>\n",
       "      <td>0</td>\n",
       "    </tr>\n",
       "    <tr>\n",
       "      <th>2</th>\n",
       "      <td>1</td>\n",
       "      <td>1</td>\n",
       "      <td>1928.55</td>\n",
       "      <td>C1959451969</td>\n",
       "      <td>5096.00</td>\n",
       "      <td>3167.45</td>\n",
       "      <td>M777313177</td>\n",
       "      <td>0.00</td>\n",
       "      <td>0.00</td>\n",
       "      <td>0</td>\n",
       "      <td>0</td>\n",
       "    </tr>\n",
       "    <tr>\n",
       "      <th>3</th>\n",
       "      <td>1</td>\n",
       "      <td>3</td>\n",
       "      <td>92553.64</td>\n",
       "      <td>C1788380050</td>\n",
       "      <td>0.00</td>\n",
       "      <td>0.00</td>\n",
       "      <td>C1182461167</td>\n",
       "      <td>297655.51</td>\n",
       "      <td>23508.22</td>\n",
       "      <td>0</td>\n",
       "      <td>0</td>\n",
       "    </tr>\n",
       "  </tbody>\n",
       "</table>\n",
       "</div>"
      ],
      "text/plain": [
       "   step  type    amount     nameOrig  oldbalanceOrg  newbalanceOrig  \\\n",
       "0     1     1   2618.76  C1068945248       21867.46        19248.70   \n",
       "1     1     1  10497.33  C1717739363        2684.69            0.00   \n",
       "2     1     1   1928.55  C1959451969        5096.00         3167.45   \n",
       "3     1     3  92553.64  C1788380050           0.00            0.00   \n",
       "\n",
       "      nameDest  oldbalanceDest  newbalanceDest  isFraud  isFlaggedFraud  \n",
       "0   M937277082            0.00            0.00        0               0  \n",
       "1   M138536309            0.00            0.00        0               0  \n",
       "2   M777313177            0.00            0.00        0               0  \n",
       "3  C1182461167       297655.51        23508.22        0               0  "
      ]
     },
     "execution_count": 139,
     "metadata": {},
     "output_type": "execute_result"
    }
   ],
   "source": [
    "import numpy as np\n",
    "\n",
    "#define total sample size desired\n",
    "N = 4\n",
    "#perform stratified random sampling\n",
    "df.groupby('isFraud', group_keys=False).apply(lambda x: x.sample(int(np.rint(N*len(x)/len(df))))).sample(frac=1).reset_index(drop=True)`\n",
    "\n",
    "###########################\n",
    "#perform stratified random sampling\n",
    "# df.groupby('isFraud', group_keys=False).apply(lambda x: x.sample(frac=0.01))"
   ]
  },
  {
   "cell_type": "markdown",
   "id": "c5773a57",
   "metadata": {},
   "source": [
    "no results for 'isFraud' equal one since there are only 9 out of 1000 so the frac percentage couldn't inlcude them"
   ]
  },
  {
   "cell_type": "markdown",
   "id": "5ff1187d",
   "metadata": {},
   "source": [
    "-----------------------------------------------------------------------------------------------------"
   ]
  },
  {
   "cell_type": "markdown",
   "id": "2e2bb9f4",
   "metadata": {},
   "source": [
    ">#### 2. Stratified Sampling Using Counts"
   ]
  },
  {
   "cell_type": "markdown",
   "id": "7b7e0bb5",
   "metadata": {},
   "source": [
    "The following code shows how to perform stratified random sampling by randomly selecting 2 observations from each category of Fraud to be included in the sample:"
   ]
  },
  {
   "cell_type": "code",
   "execution_count": 132,
   "id": "459a9897",
   "metadata": {},
   "outputs": [
    {
     "data": {
      "text/html": [
       "<div>\n",
       "<style scoped>\n",
       "    .dataframe tbody tr th:only-of-type {\n",
       "        vertical-align: middle;\n",
       "    }\n",
       "\n",
       "    .dataframe tbody tr th {\n",
       "        vertical-align: top;\n",
       "    }\n",
       "\n",
       "    .dataframe thead th {\n",
       "        text-align: right;\n",
       "    }\n",
       "</style>\n",
       "<table border=\"1\" class=\"dataframe\">\n",
       "  <thead>\n",
       "    <tr style=\"text-align: right;\">\n",
       "      <th></th>\n",
       "      <th>step</th>\n",
       "      <th>type</th>\n",
       "      <th>amount</th>\n",
       "      <th>nameOrig</th>\n",
       "      <th>oldbalanceOrg</th>\n",
       "      <th>newbalanceOrig</th>\n",
       "      <th>nameDest</th>\n",
       "      <th>oldbalanceDest</th>\n",
       "      <th>newbalanceDest</th>\n",
       "      <th>isFraud</th>\n",
       "      <th>isFlaggedFraud</th>\n",
       "    </tr>\n",
       "  </thead>\n",
       "  <tbody>\n",
       "    <tr>\n",
       "      <th>204</th>\n",
       "      <td>1</td>\n",
       "      <td>3</td>\n",
       "      <td>101940.14</td>\n",
       "      <td>C1393828949</td>\n",
       "      <td>0.0</td>\n",
       "      <td>0.00</td>\n",
       "      <td>C357863579</td>\n",
       "      <td>105362.0</td>\n",
       "      <td>92307.65</td>\n",
       "      <td>0</td>\n",
       "      <td>0</td>\n",
       "    </tr>\n",
       "    <tr>\n",
       "      <th>951</th>\n",
       "      <td>1</td>\n",
       "      <td>1</td>\n",
       "      <td>3464.41</td>\n",
       "      <td>C1245593227</td>\n",
       "      <td>5548.0</td>\n",
       "      <td>2083.59</td>\n",
       "      <td>M1525844775</td>\n",
       "      <td>0.0</td>\n",
       "      <td>0.00</td>\n",
       "      <td>0</td>\n",
       "      <td>0</td>\n",
       "    </tr>\n",
       "    <tr>\n",
       "      <th>680</th>\n",
       "      <td>1</td>\n",
       "      <td>2</td>\n",
       "      <td>20128.00</td>\n",
       "      <td>C137533655</td>\n",
       "      <td>20128.0</td>\n",
       "      <td>0.00</td>\n",
       "      <td>C1848415041</td>\n",
       "      <td>0.0</td>\n",
       "      <td>0.00</td>\n",
       "      <td>1</td>\n",
       "      <td>0</td>\n",
       "    </tr>\n",
       "    <tr>\n",
       "      <th>3</th>\n",
       "      <td>1</td>\n",
       "      <td>3</td>\n",
       "      <td>181.00</td>\n",
       "      <td>C840083671</td>\n",
       "      <td>181.0</td>\n",
       "      <td>0.00</td>\n",
       "      <td>C38997010</td>\n",
       "      <td>21182.0</td>\n",
       "      <td>0.00</td>\n",
       "      <td>1</td>\n",
       "      <td>0</td>\n",
       "    </tr>\n",
       "  </tbody>\n",
       "</table>\n",
       "</div>"
      ],
      "text/plain": [
       "     step  type     amount     nameOrig  oldbalanceOrg  newbalanceOrig  \\\n",
       "204     1     3  101940.14  C1393828949            0.0            0.00   \n",
       "951     1     1    3464.41  C1245593227         5548.0         2083.59   \n",
       "680     1     2   20128.00   C137533655        20128.0            0.00   \n",
       "3       1     3     181.00   C840083671          181.0            0.00   \n",
       "\n",
       "        nameDest  oldbalanceDest  newbalanceDest  isFraud  isFlaggedFraud  \n",
       "204   C357863579        105362.0        92307.65        0               0  \n",
       "951  M1525844775             0.0            0.00        0               0  \n",
       "680  C1848415041             0.0            0.00        1               0  \n",
       "3      C38997010         21182.0            0.00        1               0  "
      ]
     },
     "execution_count": 132,
     "metadata": {},
     "output_type": "execute_result"
    }
   ],
   "source": [
    "df.groupby('isFraud', group_keys=False).apply(lambda x: x.sample(2))"
   ]
  },
  {
   "cell_type": "markdown",
   "id": "706e5c94",
   "metadata": {},
   "source": [
    "-------------------------------------------------------------------------------------------"
   ]
  },
  {
   "cell_type": "markdown",
   "id": "291398ca",
   "metadata": {},
   "source": [
    "-------------------------------------------------------------------------------------------"
   ]
  },
  {
   "cell_type": "markdown",
   "id": "beb31b78",
   "metadata": {},
   "source": [
    "# <center><font color = yellow> الحمد لله </font> <center>"
   ]
  }
 ],
 "metadata": {
  "kernelspec": {
   "display_name": "Python 3",
   "language": "python",
   "name": "python3"
  },
  "language_info": {
   "codemirror_mode": {
    "name": "ipython",
    "version": 3
   },
   "file_extension": ".py",
   "mimetype": "text/x-python",
   "name": "python",
   "nbconvert_exporter": "python",
   "pygments_lexer": "ipython3",
   "version": "3.8.8"
  }
 },
 "nbformat": 4,
 "nbformat_minor": 5
}
